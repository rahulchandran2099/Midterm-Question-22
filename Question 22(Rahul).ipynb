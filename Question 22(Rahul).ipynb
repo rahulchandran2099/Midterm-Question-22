{
 "cells": [
  {
   "cell_type": "code",
   "execution_count": 18,
   "metadata": {
    "collapsed": false
   },
   "outputs": [
   ],
   "source": [
    "# Importing Libraries for python\n",
    "import pandas as pd\n",
    "\n",
    "# Importing Libraries for SQL\n",
    "import sqlite3\n"
   ]
  },
  {
   "cell_type": "code",
   "execution_count": 19,
   "metadata": {
    "collapsed": false
   },
   "outputs": [
    {
     "data": {
      "text/html": [
       "<div>\n",
       "<style scoped>\n",
       "    .dataframe tbody tr th:only-of-type {\n",
       "        vertical-align: middle;\n",
       "    }\n",
       "\n",
       "    .dataframe tbody tr th {\n",
       "        vertical-align: top;\n",
       "    }\n",
       "\n",
       "    .dataframe thead th {\n",
       "        text-align: right;\n",
       "    }\n",
       "</style>\n",
       "<table border=\"1\" class=\"dataframe\">\n",
       "  <thead>\n",
       "    <tr style=\"text-align: right;\">\n",
       "      <th></th>\n",
       "      <th>id</th>\n",
       "      <th>recordDate</th>\n",
       "      <th>temperature</th>\n",
       "    </tr>\n",
       "  </thead>\n",
       "  <tbody>\n",
       "    <tr>\n",
       "      <th>0</th>\n",
       "      <td>1</td>\n",
       "      <td>2015-01-01</td>\n",
       "      <td>10</td>\n",
       "    </tr>\n",
       "    <tr>\n",
       "      <th>1</th>\n",
       "      <td>2</td>\n",
       "      <td>2015-01-02</td>\n",
       "      <td>25</td>\n",
       "    </tr>\n",
       "    <tr>\n",
       "      <th>2</th>\n",
       "      <td>3</td>\n",
       "      <td>2015-01-03</td>\n",
       "      <td>20</td>\n",
       "    </tr>\n",
       "    <tr>\n",
       "      <th>3</th>\n",
       "      <td>4</td>\n",
       "      <td>2015-01-04</td>\n",
       "      <td>30</td>\n",
       "    </tr>\n",
       "  </tbody>\n",
       "</table>\n",
       "</div>"
      ],
      "text/plain": [
       "   id  recordDate  temperature\n",
       "0   1  2015-01-01           10\n",
       "1   2  2015-01-02           25\n",
       "2   3  2015-01-03           20\n",
       "3   4  2015-01-04           30"
      ]
     },
     "execution_count": 19,
     "metadata": {
     },
     "output_type": "execute_result"
    }
   ],
   "source": [
    "# Creating dataframe for the weather data\n",
    "weather_data = {\n",
    "    'id': [1, 2, 3, 4],\n",
    "    'recordDate': ['2015-01-01', '2015-01-02', '2015-01-03', '2015-01-04'],\n",
    "    'temperature': [10, 25, 20, 30]\n",
    "}\n",
    "weather_df = pd.DataFrame(weather_data)\n",
    "weather_df\n"
   ]
  },
  {
   "cell_type": "code",
   "execution_count": 20,
   "metadata": {
    "collapsed": false
   },
   "outputs": [
    {
     "data": {
      "text/plain": [
       "[2, 4]"
      ]
     },
     "execution_count": 20,
     "metadata": {
     },
     "output_type": "execute_result"
    }
   ],
   "source": [
    "# ID's with higher temp compared to old date - python solution\n",
    "previous_temp = weather_df['temperature'].shift(1)\n",
    "weather_df['prev_temp'] = previous_temp\n",
    "\n",
    "higher_temp_ids = weather_df[weather_df['temperature'] > weather_df['prev_temp']]['id'].tolist()\n",
    "higher_temp_ids\n"
   ]
  },
  {
   "cell_type": "code",
   "execution_count": 21,
   "metadata": {
    "collapsed": false
   },
   "outputs": [
   ],
   "source": [
    "# New SQL Database\n",
    "conn = sqlite3.connect(':memory:')  # Using in-memory database for demonstration\n",
    "c = conn.cursor()\n",
    "\n",
    "# Creating the weather table\n",
    "c.execute('''\n",
    "CREATE TABLE Weather (\n",
    "    id INTEGER PRIMARY KEY,\n",
    "    recordDate DATE,\n",
    "    temperature INTEGER\n",
    ")\n",
    "''')\n",
    "\n",
    "# Cleaning columns so that only relevant columns are only present\n",
    "weather_tuples = [(row['id'], row['recordDate'], row['temperature']) for index, row in weather_df.iterrows()]\n",
    "c.executemany('INSERT INTO Weather (id, recordDate, temperature) VALUES (?, ?, ?)', weather_tuples)\n",
    "\n",
    "conn.commit()\n"
   ]
  },
  {
   "cell_type": "code",
   "execution_count": 22,
   "metadata": {
    "collapsed": false
   },
   "outputs": [
    {
     "data": {
      "text/plain": [
       "[(2,), (4,)]"
      ]
     },
     "execution_count": 22,
     "metadata": {
     },
     "output_type": "execute_result"
    }
   ],
   "source": [
    "# ID's with higher temp compared to old date - SQL Query\n",
    "sql_query = '''\n",
    "SELECT W1.id\n",
    "FROM Weather W1, Weather W2\n",
    "WHERE W1.recordDate = date(W2.recordDate, '+1 day')\n",
    "AND W1.temperature > W2.temperature\n",
    "ORDER BY W1.id ASC\n",
    "'''\n",
    "\n",
    "c.execute(sql_query)\n",
    "sql_result = c.fetchall()\n",
    "\n",
    "# Printing Result\n",
    "sql_result\n"
   ]
  },
  {
   "cell_type": "code",
   "execution_count": 0,
   "metadata": {
    "collapsed": false
   },
   "outputs": [
   ],
   "source": [
   ]
  }
 ],
 "metadata": {
  "kernelspec": {
   "argv": [
    "/usr/bin/python3",
    "-m",
    "ipykernel",
    "--HistoryManager.enabled=False",
    "--matplotlib=inline",
    "-c",
    "%config InlineBackend.figure_formats = set(['retina'])\nimport matplotlib; matplotlib.rcParams['figure.figsize'] = (12, 7)",
    "-f",
    "{connection_file}"
   ],
   "display_name": "Python 3 (system-wide)",
   "env": {
   },
   "language": "python",
   "metadata": {
    "cocalc": {
     "description": "Python 3 programming language",
     "priority": 100,
     "url": "https://www.python.org/"
    }
   },
   "name": "python3",
   "resource_dir": "/ext/jupyter/kernels/python3"
  },
  "language_info": {
   "codemirror_mode": {
    "name": "ipython",
    "version": 3
   },
   "file_extension": ".py",
   "mimetype": "text/x-python",
   "name": "python",
   "nbconvert_exporter": "python",
   "pygments_lexer": "ipython3",
   "version": "3.10.12"
  }
 },
 "nbformat": 4,
 "nbformat_minor": 4
}